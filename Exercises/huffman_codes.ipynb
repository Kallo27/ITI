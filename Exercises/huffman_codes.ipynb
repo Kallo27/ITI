{
 "cells": [
  {
   "cell_type": "markdown",
   "metadata": {
    "vscode": {
     "languageId": "plaintext"
    }
   },
   "source": [
    "# Exercise 3 - Huffman codes\n",
    "\n",
    "| Lorenzo | Calandra Buonaura | 2107761 |\n",
    "|---------|-------------------|---------|"
   ]
  },
  {
   "cell_type": "code",
   "execution_count": 23,
   "metadata": {},
   "outputs": [],
   "source": [
    "import numpy as np\n",
    "import pandas as pd"
   ]
  },
  {
   "cell_type": "code",
   "execution_count": 24,
   "metadata": {},
   "outputs": [],
   "source": [
    "with open(\"text.txt\", \"r\") as file:\n",
    "  all_characters = file.read()\n",
    "  \n",
    "unique_characters = sorted(list(set(all_characters)))\n",
    "n = len(all_characters)\n",
    "\n",
    "character_probabilities = {char: all_characters.count(char)/n for char in unique_characters}"
   ]
  },
  {
   "cell_type": "code",
   "execution_count": 25,
   "metadata": {},
   "outputs": [
    {
     "name": "stdout",
     "output_type": "stream",
     "text": [
      "  Character  Probability     Error\n",
      "0        \\n     0.041855  0.000628\n",
      "1               0.224531  0.001455\n",
      "2         !     0.002280  0.000147\n",
      "3         &     0.000028  0.000016\n",
      "4         '     0.005550  0.000229\n"
     ]
    }
   ],
   "source": [
    "probability_df = pd.DataFrame(list(character_probabilities.items()), columns=[\"Character\", \"Probability\"])\n",
    "probability_df['Error'] = np.sqrt((probability_df['Probability'] * (n - probability_df['Probability'])) / n**2)\n",
    "print(probability_df.head())"
   ]
  },
  {
   "cell_type": "code",
   "execution_count": 26,
   "metadata": {},
   "outputs": [],
   "source": [
    "def shannon_entropy(df):\n",
    "  entropy = -sum(df['Probability'] * np.log2(df['Probability']))\n",
    "  error = sum(np.abs(np.log2(df['Probability']) + 1/np.log(2))*df['Error'])\n",
    "  return entropy, error"
   ]
  },
  {
   "cell_type": "code",
   "execution_count": 27,
   "metadata": {},
   "outputs": [
    {
     "name": "stdout",
     "output_type": "stream",
     "text": [
      "Shannon entropy of the file 'text.txt': 4.5762 +/- 0.0815\n"
     ]
    }
   ],
   "source": [
    "entropy, error_entropy = shannon_entropy(probability_df)\n",
    "print(f\"Shannon entropy of the file \\'text.txt\\': {round(entropy, 4)} +/- {round(error_entropy, 4)}\")"
   ]
  },
  {
   "cell_type": "code",
   "execution_count": 96,
   "metadata": {},
   "outputs": [],
   "source": [
    "def huffman_code(df):\n",
    "  df['Code'] = df['Character'].apply(lambda _: [])\n",
    "  new_df = df.copy()\n",
    "  p = new_df['Probability'].to_numpy()\n",
    "  \n",
    "  while True:\n",
    "    min_value1 = np.min(p)\n",
    "    min_indices1 = np.where(p == min_value1)[0]\n",
    "    for index in min_indices1:\n",
    "      df['Code'][index].append(0)\n",
    "    p[min_indices1] = np.inf\n",
    "\n",
    "    min_value2 = np.min(p)\n",
    "    min_indices2 = np.where(p == min_value2)[0]\n",
    "    for index in min_indices2:\n",
    "      df['Code'][index].append(1)\n",
    "    p[min_indices2] = np.inf\n",
    "    \n",
    "    p[min_indices1] = min_value1 + min_value2\n",
    "    p[min_indices2] = min_value2 + min_value2\n",
    "    \n",
    "    if abs(min_value1 + min_value2 - 1) <= 0.01:\n",
    "      break\n",
    "    \n",
    "    df['Code'] = df['Code'].apply(lambda code: code[::-1])\n",
    "    \n",
    "  return df\n",
    "\n",
    "def build_code_dict(df):\n",
    "  code_dict = {}\n",
    "  for _, row in df.iterrows():\n",
    "    code_tuple = tuple(row['Code'])\n",
    "    code_dict[code_tuple] = row['Character']\n",
    "  return code_dict\n",
    "\n",
    "def huffman_encode(input_string, code_dict):\n",
    "  encoded_output = []\n",
    "  for char in input_string:\n",
    "    for code_tuple, character in code_dict.items():\n",
    "      if character == char:\n",
    "        encoded_output.extend(code_tuple)\n",
    "        break\n",
    "  return encoded_output\n",
    "  \n",
    "def huffman_decode(encoded_sequence, code_dict):\n",
    "  decoded_output = []\n",
    "  current_code = []\n",
    "  \n",
    "  for bit in encoded_sequence:\n",
    "    current_code.append(bit)\n",
    "    code_tuple = tuple(current_code)\n",
    "    \n",
    "    if code_tuple in code_dict:\n",
    "      decoded_output.append(code_dict[code_tuple])\n",
    "      print(code_tuple)\n",
    "      current_code = []\n",
    "  return decoded_output"
   ]
  },
  {
   "cell_type": "code",
   "execution_count": 97,
   "metadata": {},
   "outputs": [],
   "source": [
    "new_df = huffman_code(probability_df)\n",
    "code_dict = build_code_dict(new_df)"
   ]
  },
  {
   "cell_type": "code",
   "execution_count": 98,
   "metadata": {},
   "outputs": [],
   "source": [
    "encoded_sequence = huffman_encode(all_characters[:90], code_dict)"
   ]
  },
  {
   "cell_type": "code",
   "execution_count": 99,
   "metadata": {},
   "outputs": [
    {
     "name": "stdout",
     "output_type": "stream",
     "text": [
      "ACT I\n",
      "SCENE I. On a ship at sea: a tempestuous noise\n",
      "\n",
      "    of thunder and lightning heard.\n",
      "\n"
     ]
    }
   ],
   "source": [
    "print(all_characters[:90])"
   ]
  },
  {
   "cell_type": "code",
   "execution_count": 100,
   "metadata": {},
   "outputs": [
    {
     "name": "stdout",
     "output_type": "stream",
     "text": [
      "(0, 0, 1, 1, 1, 1, 0, 1)\n",
      "(0, 1, 1, 1)\n"
     ]
    }
   ],
   "source": [
    "decoded_output = huffman_decode(encoded_sequence, code_dict)"
   ]
  },
  {
   "cell_type": "code",
   "execution_count": 95,
   "metadata": {},
   "outputs": [
    {
     "data": {
      "text/plain": [
       "[]"
      ]
     },
     "execution_count": 95,
     "metadata": {},
     "output_type": "execute_result"
    }
   ],
   "source": [
    "decoded_output"
   ]
  },
  {
   "cell_type": "code",
   "execution_count": null,
   "metadata": {},
   "outputs": [],
   "source": []
  }
 ],
 "metadata": {
  "kernelspec": {
   "display_name": "base",
   "language": "python",
   "name": "python3"
  },
  "language_info": {
   "codemirror_mode": {
    "name": "ipython",
    "version": 3
   },
   "file_extension": ".py",
   "mimetype": "text/x-python",
   "name": "python",
   "nbconvert_exporter": "python",
   "pygments_lexer": "ipython3",
   "version": "3.11.5"
  }
 },
 "nbformat": 4,
 "nbformat_minor": 2
}
